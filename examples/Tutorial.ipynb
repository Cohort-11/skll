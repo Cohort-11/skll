{
 "cells": [
  {
   "cell_type": "markdown",
   "metadata": {},
   "source": [
    "SKLL can be used in 2 ways -\n",
    "\n",
    "---\n",
    "1. *Command Line*\n",
    "    - Get data in [SKLL compatible format](https://skll.readthedocs.io/en/latest/run_experiment.html#file-formats).\n",
    "    - Create a [python configuration file](https://skll.readthedocs.io/en/latest/run_experiment.html#create-config).\n",
    "    - Run the experiment using [run_experiment](https://skll.readthedocs.io/en/latest/run_experiment.html) command.\n",
    "    - Examine results using the several [utility](https://skll.readthedocs.io/en/latest/utilities.html) commands provided.\n",
    "---    \n",
    "2. *Python API*"
   ]
  },
  {
   "cell_type": "markdown",
   "metadata": {},
   "source": [
    "# Command Line"
   ]
  },
  {
   "cell_type": "code",
   "execution_count": 1,
   "metadata": {},
   "outputs": [
    {
     "name": "stdout",
     "output_type": "stream",
     "text": [
      "/home/jovyan/examples\r\n"
     ]
    }
   ],
   "source": [
    "!pwd"
   ]
  },
  {
   "cell_type": "code",
   "execution_count": 2,
   "metadata": {},
   "outputs": [
    {
     "name": "stdout",
     "output_type": "stream",
     "text": [
      "boston\t\t\t     make_iris_example_data.py\t   Tutorial.ipynb\r\n",
      "iris\t\t\t     make_titanic_example_data.py\r\n",
      "make_boston_example_data.py  titanic\r\n"
     ]
    }
   ],
   "source": [
    "!ls"
   ]
  },
  {
   "cell_type": "markdown",
   "metadata": {},
   "source": [
    "### Dataset Manipulation"
   ]
  },
  {
   "cell_type": "markdown",
   "metadata": {},
   "source": [
    "We shall be using the IRIS dataset for this simple tutorial. It is a simple 3-Class Classification using a single set of 4 features.\n",
    "\n",
    "The utility python script *make_iris_example_data.py* downloads the IRIS dataset from scikit-learn and pre-processes it to make train, test sub-directories within the *iris* directory. \n",
    "\n",
    "Each of the generated sub-directories (*iris/train* and *iris/test*) contains a feature file in SKLL compatible *jsonlines* format."
   ]
  },
  {
   "cell_type": "code",
   "execution_count": 3,
   "metadata": {},
   "outputs": [
    {
     "name": "stdout",
     "output_type": "stream",
     "text": [
      "Retrieving iris data from servers...done\r\n",
      "Writing training and testing files...done\r\n"
     ]
    }
   ],
   "source": [
    "!python3 make_iris_example_data.py"
   ]
  },
  {
   "cell_type": "code",
   "execution_count": 4,
   "metadata": {},
   "outputs": [
    {
     "name": "stdout",
     "output_type": "stream",
     "text": [
      "iris/\n",
      "    cross_val.cfg\n",
      "    evaluate.cfg\n",
      "    train/\n",
      "        example_iris_features.csv\n",
      "        example_iris_features.jsonlines\n",
      "    test/\n",
      "        example_iris_features.jsonlines\n"
     ]
    }
   ],
   "source": [
    "import os\n",
    "\n",
    "def list_files(startpath):\n",
    "    for root, dirs, files in os.walk(startpath):\n",
    "        level = root.replace(startpath, '').count(os.sep)\n",
    "        indent = ' ' * 4 * (level)\n",
    "        print('{}{}/'.format(indent, os.path.basename(root)))\n",
    "        subindent = ' ' * 4 * (level + 1)\n",
    "        for f in sorted(files):\n",
    "            print('{}{}'.format(subindent, f))\n",
    "\n",
    "list_files('iris')"
   ]
  },
  {
   "cell_type": "code",
   "execution_count": 5,
   "metadata": {},
   "outputs": [
    {
     "name": "stdout",
     "output_type": "stream",
     "text": [
      "{\"id\": \"EXAMPLE_96\", \"y\": \"versicolor\", \"x\": {\"f0\": 5.7, \"f1\": 2.9, \"f2\": 4.2, \"f3\": 1.3}}\r\n",
      "{\"id\": \"EXAMPLE_105\", \"y\": \"virginica\", \"x\": {\"f0\": 7.6, \"f1\": 3.0, \"f2\": 6.6, \"f3\": 2.1}}\r\n",
      "{\"id\": \"EXAMPLE_66\", \"y\": \"versicolor\", \"x\": {\"f0\": 5.6, \"f1\": 3.0, \"f2\": 4.5, \"f3\": 1.5}}\r\n",
      "{\"id\": \"EXAMPLE_0\", \"y\": \"setosa\", \"x\": {\"f0\": 5.1, \"f1\": 3.5, \"f2\": 1.4, \"f3\": 0.2}}\r\n",
      "{\"id\": \"EXAMPLE_122\", \"y\": \"virginica\", \"x\": {\"f0\": 7.7, \"f1\": 2.8, \"f2\": 6.7, \"f3\": 2.0}}\r\n"
     ]
    }
   ],
   "source": [
    "!head -5 iris/train/example_iris_features.jsonlines"
   ]
  },
  {
   "cell_type": "markdown",
   "metadata": {},
   "source": [
    "The *[skll_convert](https://skll.readthedocs.io/en/latest/utilities.html#skll-convert)* command can be used to convert between [SKLL feature file formats](https://skll.readthedocs.io/en/latest/run_experiment.html#feature-file-formats). "
   ]
  },
  {
   "cell_type": "code",
   "execution_count": 6,
   "metadata": {},
   "outputs": [
    {
     "name": "stdout",
     "output_type": "stream",
     "text": [
      "Loading iris/train/example_iris_features.jsonlines...           done\n",
      "Writing iris/train/example_iris_features.csv...done           \n",
      "\n",
      "example_iris_features.csv  example_iris_features.jsonlines\n",
      "\n",
      "f0,f1,f2,f3,id,y\n",
      "5.7,2.9,4.2,1.3,EXAMPLE_96,versicolor\n",
      "7.6,3.0,6.6,2.1,EXAMPLE_105,virginica\n",
      "5.6,3.0,4.5,1.5,EXAMPLE_66,versicolor\n",
      "5.1,3.5,1.4,0.2,EXAMPLE_0,setosa\n"
     ]
    }
   ],
   "source": [
    "!skll_convert iris/train/example_iris_features.jsonlines iris/train/example_iris_features.csv \n",
    "print()\n",
    "!ls iris/train\n",
    "print()\n",
    "!head -5 iris/train/example_iris_features.csv"
   ]
  },
  {
   "cell_type": "markdown",
   "metadata": {},
   "source": [
    "### Configuration File"
   ]
  },
  {
   "cell_type": "markdown",
   "metadata": {},
   "source": [
    "At the core of SKLL experiments is the configuration file which is executed with the *run_experiment* command. \n",
    "SKLL configuration files are standard Python configuration files (similar in format to Windows INI files).\n",
    "\n",
    "The 4 expected sections in a configuration file are :\n",
    "1. [General](https://skll.readthedocs.io/en/latest/run_experiment.html#general)\n",
    "    - Defines *experiment_name* and *task* (both compulsory fields)\n",
    "    - 4 tasks are supported :\n",
    "        1. cross_validate\n",
    "        2. evaluate\n",
    "        3. predict\n",
    "        4. learning curve\n",
    "2. [Input](https://skll.readthedocs.io/en/latest/run_experiment.html#input)\n",
    "    - Defines the *learners* list (compulsory)\n",
    "    - Additionally, one of *train_directory* or *train_file* field must be defined.\n",
    "    - All other fields are optional.\n",
    "3. [Tuning](https://skll.readthedocs.io/en/latest/run_experiment.html#tuning)\n",
    "    - Contains fields related to tuning the models such as *objectives*, *grid_search* etc.\n",
    "    - All the fields in this section are optional.\n",
    "4. [Output](https://skll.readthedocs.io/en/latest/run_experiment.html#output)\n",
    "    - Contains fields related to output post model training such as *probability*, *metrics*, *results* etc.\n",
    "    - All the fields in this section are optional.\n",
    "    \n",
    "    \n",
    "An example config file for the IRIS dataset is shown here."
   ]
  },
  {
   "cell_type": "code",
   "execution_count": 7,
   "metadata": {},
   "outputs": [
    {
     "name": "stdout",
     "output_type": "stream",
     "text": [
      "[General]\n",
      "experiment_name = Iris_CV\n",
      "task = cross_validate\n",
      "\n",
      "[Input]\n",
      "# this could also be an absolute path instead (and must be if you're not\n",
      "# running things in local mode)\n",
      "train_directory = train\n",
      "featuresets = [[\"example_iris_features\"]]\n",
      "# there is only set of features to try with one feature file in it here.\n",
      "featureset_names = [\"example_iris\"]\n",
      "learners = [\"RandomForestClassifier\", \"SVC\", \"LogisticRegression\", \"MultinomialNB\"]\n",
      "suffix = .jsonlines\n",
      "\n",
      "[Tuning]\n",
      "grid_search = true\n",
      "objectives = ['f1_score_micro']\n",
      "\n",
      "[Output]\n",
      "# again, these can be absolute paths\n",
      "results = output\n",
      "log = output\n",
      "predictions = output\n",
      "\n"
     ]
    }
   ],
   "source": [
    "with open('iris/cross_val.cfg', 'r') as config_file:\n",
    "    print(config_file.read())"
   ]
  },
  {
   "cell_type": "markdown",
   "metadata": {},
   "source": [
    "### run_experiment\n",
    "\n",
    "After defining the configuration file, we can use the [run_experiment CONFIGURATION_FILE](https://skll.readthedocs.io/en/latest/run_experiment.html#using-run-experiment) command. Although most of the parameters are defined in the config file, some are passed as arguments to *run_experiment* (--ablation, --local etc.).\n",
    "\n",
    "Here we try out the cross validation configuration shown earlier."
   ]
  },
  {
   "cell_type": "code",
   "execution_count": 8,
   "metadata": {},
   "outputs": [
    {
     "name": "stdout",
     "output_type": "stream",
     "text": [
      "2019-10-07 17:12:41,858 - Iris_CV_example_iris_RandomForestClassifier - INFO - Task: cross_validate\n",
      "2019-10-07 17:12:41,858 - Iris_CV_example_iris_RandomForestClassifier - INFO - Cross-validating (10 folds) on train, feature set ['example_iris_features'] ...\n",
      "2019-10-07 17:12:41,858 - Iris_CV_example_iris_RandomForestClassifier - DEBUG - Path: /home/jovyan/examples/iris/train/example_iris_features.jsonlines\n",
      "Loading /home/jovyan/examples/iris/train/example_iris_features.jsonlines...           done\n",
      "2019-10-07 17:12:41,862 - Iris_CV_example_iris_RandomForestClassifier - INFO - Cross-validating\n",
      "2019-10-07 17:12:41,863 - Iris_CV_example_iris_RandomForestClassifier - WARNING - Training data will be shuffled to randomize grid search folds. Shuffling may yield different results compared to scikit-learn.\n",
      "2019-10-07 17:14:42,104 - Iris_CV_example_iris_SVC - INFO - Task: cross_validate\n",
      "2019-10-07 17:14:42,105 - Iris_CV_example_iris_SVC - INFO - Cross-validating (10 folds) on train, feature set ['example_iris_features'] ...\n",
      "2019-10-07 17:14:42,105 - Iris_CV_example_iris_SVC - DEBUG - Path: /home/jovyan/examples/iris/train/example_iris_features.jsonlines\n",
      "Loading /home/jovyan/examples/iris/train/example_iris_features.jsonlines...           done\n",
      "2019-10-07 17:14:42,110 - Iris_CV_example_iris_SVC - INFO - Cross-validating\n",
      "2019-10-07 17:14:42,111 - Iris_CV_example_iris_SVC - WARNING - Training data will be shuffled to randomize grid search folds. Shuffling may yield different results compared to scikit-learn.\n",
      "2019-10-07 17:14:49,333 - Iris_CV_example_iris_LogisticRegression - INFO - Task: cross_validate\n",
      "2019-10-07 17:14:49,333 - Iris_CV_example_iris_LogisticRegression - INFO - Cross-validating (10 folds) on train, feature set ['example_iris_features'] ...\n",
      "2019-10-07 17:14:49,333 - Iris_CV_example_iris_LogisticRegression - DEBUG - Path: /home/jovyan/examples/iris/train/example_iris_features.jsonlines\n",
      "Loading /home/jovyan/examples/iris/train/example_iris_features.jsonlines...           done\n",
      "2019-10-07 17:14:49,338 - Iris_CV_example_iris_LogisticRegression - INFO - Cross-validating\n",
      "2019-10-07 17:14:49,339 - Iris_CV_example_iris_LogisticRegression - WARNING - Training data will be shuffled to randomize grid search folds. Shuffling may yield different results compared to scikit-learn.\n",
      "2019-10-07 17:14:50,352 - Iris_CV_example_iris_MultinomialNB - INFO - Task: cross_validate\n",
      "2019-10-07 17:14:50,352 - Iris_CV_example_iris_MultinomialNB - INFO - Cross-validating (10 folds) on train, feature set ['example_iris_features'] ...\n",
      "2019-10-07 17:14:50,352 - Iris_CV_example_iris_MultinomialNB - DEBUG - Path: /home/jovyan/examples/iris/train/example_iris_features.jsonlines\n",
      "Loading /home/jovyan/examples/iris/train/example_iris_features.jsonlines...           done\n",
      "2019-10-07 17:14:50,358 - Iris_CV_example_iris_MultinomialNB - INFO - Cross-validating\n",
      "2019-10-07 17:14:50,359 - Iris_CV_example_iris_MultinomialNB - WARNING - Training data will be shuffled to randomize grid search folds. Shuffling may yield different results compared to scikit-learn.\n"
     ]
    }
   ],
   "source": [
    "!run_experiment --local --verbose iris/cross_val.cfg"
   ]
  },
  {
   "cell_type": "markdown",
   "metadata": {},
   "source": [
    "### Analysing Output"
   ]
  },
  {
   "cell_type": "code",
   "execution_count": 9,
   "metadata": {},
   "outputs": [
    {
     "name": "stdout",
     "output_type": "stream",
     "text": [
      "iris/\n",
      "    cross_val.cfg\n",
      "    evaluate.cfg\n",
      "    train/\n",
      "        example_iris_features.csv\n",
      "        example_iris_features.jsonlines\n",
      "    output/\n",
      "        Iris_CV.log\n",
      "        Iris_CV_example_iris_LogisticRegression.log\n",
      "        Iris_CV_example_iris_LogisticRegression.results\n",
      "        Iris_CV_example_iris_LogisticRegression.results.json\n",
      "        Iris_CV_example_iris_LogisticRegression_predictions.tsv\n",
      "        Iris_CV_example_iris_MultinomialNB.log\n",
      "        Iris_CV_example_iris_MultinomialNB.results\n",
      "        Iris_CV_example_iris_MultinomialNB.results.json\n",
      "        Iris_CV_example_iris_MultinomialNB_predictions.tsv\n",
      "        Iris_CV_example_iris_RandomForestClassifier.log\n",
      "        Iris_CV_example_iris_RandomForestClassifier.results\n",
      "        Iris_CV_example_iris_RandomForestClassifier.results.json\n",
      "        Iris_CV_example_iris_RandomForestClassifier_predictions.tsv\n",
      "        Iris_CV_example_iris_SVC.log\n",
      "        Iris_CV_example_iris_SVC.results\n",
      "        Iris_CV_example_iris_SVC.results.json\n",
      "        Iris_CV_example_iris_SVC_predictions.tsv\n",
      "        Iris_CV_summary.tsv\n",
      "    test/\n",
      "        example_iris_features.jsonlines\n"
     ]
    }
   ],
   "source": [
    "list_files('iris')"
   ]
  },
  {
   "cell_type": "code",
   "execution_count": 10,
   "metadata": {},
   "outputs": [
    {
     "name": "stdout",
     "output_type": "stream",
     "text": [
      "Experiment Name: Iris_CV\r\n",
      "SKLL Version: 1.5.3\r\n",
      "Training Set: train\r\n",
      "Training Set Size: 100\r\n",
      "Test Set: cv\r\n",
      "Test Set Size: n/a\r\n",
      "Shuffle: False\r\n",
      "Feature Set: [\"example_iris_features\"]\r\n",
      "Learner: LogisticRegression\r\n",
      "Task: cross_validate\r\n",
      "Number of Folds: 10\r\n",
      "Stratified Folds: True\r\n",
      "Feature Scaling: none\r\n",
      "Grid Search: True\r\n",
      "Grid Search Folds: 3\r\n",
      "Grid Objective Function: f1_score_micro\r\n",
      "Scikit-learn Version: 0.20.1\r\n",
      "Start Timestamp: 07 Oct 2019 17:14:49.333033\r\n",
      "End Timestamp: 07 Oct 2019 17:14:50.334202\r\n",
      "Total Time: 0:00:01.001169\r\n",
      "\r\n",
      "\r\n",
      "Fold: 1\r\n",
      "Model Parameters: {\"C\": 100.0, \"class_weight\": null, \"dual\": false, \"fit_intercept\": true, \"intercept_scaling\": 1, \"max_iter\": 1000, \"multi_class\": \"auto\", \"n_jobs\": null, \"penalty\": \"l2\", \"random_state\": 123456789, \"solver\": \"liblinear\", \"tol\": 0.0001, \"verbose\": 0, \"warm_start\": false}\r\n",
      "Grid Objective Score (Train) = 0.9547892720306513\r\n",
      "+------------+----------+--------------+-------------+-------------+----------+-------------+\r\n",
      "|            |   setosa |   versicolor |   virginica |   Precision |   Recall |   F-measure |\r\n",
      "+============+==========+==============+=============+=============+==========+=============+\r\n",
      "|     setosa |      [4] |            0 |           0 |       1.000 |    1.000 |       1.000 |\r\n",
      "+------------+----------+--------------+-------------+-------------+----------+-------------+\r\n",
      "| versicolor |        0 |          [4] |           0 |       1.000 |    1.000 |       1.000 |\r\n",
      "+------------+----------+--------------+-------------+-------------+----------+-------------+\r\n",
      "|  virginica |        0 |            0 |         [4] |       1.000 |    1.000 |       1.000 |\r\n",
      "+------------+----------+--------------+-------------+-------------+----------+-------------+\r\n",
      "(row = reference; column = predicted)\r\n",
      "Accuracy = 1.0\r\n",
      "Objective Function Score (Test) = 1.0\r\n",
      "\r\n",
      "Fold: 2\r\n",
      "Model Parameters: {\"C\": 10.0, \"class_weight\": null, \"dual\": false, \"fit_intercept\": true, \"intercept_scaling\": 1, \"max_iter\": 1000, \"multi_class\": \"auto\", \"n_jobs\": null, \"penalty\": \"l2\", \"random_state\": 123456789, \"solver\": \"liblinear\", \"tol\": 0.0001, \"verbose\": 0, \"warm_start\": false}\r\n",
      "Grid Objective Score (Train) = 0.978494623655914\r\n",
      "+------------+----------+--------------+-------------+-------------+----------+-------------+\r\n",
      "|            |   setosa |   versicolor |   virginica |   Precision |   Recall |   F-measure |\r\n",
      "+============+==========+==============+=============+=============+==========+=============+\r\n",
      "|     setosa |      [3] |            0 |           0 |       1.000 |    1.000 |       1.000 |\r\n",
      "+------------+----------+--------------+-------------+-------------+----------+-------------+\r\n",
      "| versicolor |        0 |          [4] |           0 |       1.000 |    1.000 |       1.000 |\r\n",
      "+------------+----------+--------------+-------------+-------------+----------+-------------+\r\n",
      "|  virginica |        0 |            0 |         [4] |       1.000 |    1.000 |       1.000 |\r\n",
      "+------------+----------+--------------+-------------+-------------+----------+-------------+\r\n",
      "(row = reference; column = predicted)\r\n",
      "Accuracy = 1.0\r\n",
      "Objective Function Score (Test) = 1.0\r\n",
      "\r\n",
      "Fold: 3\r\n",
      "Model Parameters: {\"C\": 10.0, \"class_weight\": null, \"dual\": false, \"fit_intercept\": true, \"intercept_scaling\": 1, \"max_iter\": 1000, \"multi_class\": \"auto\", \"n_jobs\": null, \"penalty\": \"l2\", \"random_state\": 123456789, \"solver\": \"liblinear\", \"tol\": 0.0001, \"verbose\": 0, \"warm_start\": false}\r\n",
      "Grid Objective Score (Train) = 0.9670003707823508\r\n",
      "+------------+----------+--------------+-------------+-------------+----------+-------------+\r\n",
      "|            |   setosa |   versicolor |   virginica |   Precision |   Recall |   F-measure |\r\n",
      "+============+==========+==============+=============+=============+==========+=============+\r\n",
      "|     setosa |      [3] |            0 |           0 |       1.000 |    1.000 |       1.000 |\r\n",
      "+------------+----------+--------------+-------------+-------------+----------+-------------+\r\n",
      "| versicolor |        0 |          [4] |           0 |       1.000 |    1.000 |       1.000 |\r\n",
      "+------------+----------+--------------+-------------+-------------+----------+-------------+\r\n",
      "|  virginica |        0 |            0 |         [4] |       1.000 |    1.000 |       1.000 |\r\n",
      "+------------+----------+--------------+-------------+-------------+----------+-------------+\r\n",
      "(row = reference; column = predicted)\r\n",
      "Accuracy = 1.0\r\n",
      "Objective Function Score (Test) = 1.0\r\n",
      "\r\n",
      "Fold: 4\r\n",
      "Model Parameters: {\"C\": 100.0, \"class_weight\": null, \"dual\": false, \"fit_intercept\": true, \"intercept_scaling\": 1, \"max_iter\": 1000, \"multi_class\": \"auto\", \"n_jobs\": null, \"penalty\": \"l2\", \"random_state\": 123456789, \"solver\": \"liblinear\", \"tol\": 0.0001, \"verbose\": 0, \"warm_start\": false}\r\n",
      "Grid Objective Score (Train) = 0.9770114942528737\r\n",
      "+------------+----------+--------------+-------------+-------------+----------+-------------+\r\n",
      "|            |   setosa |   versicolor |   virginica |   Precision |   Recall |   F-measure |\r\n",
      "+============+==========+==============+=============+=============+==========+=============+\r\n",
      "|     setosa |      [3] |            0 |           0 |       1.000 |    1.000 |       1.000 |\r\n",
      "+------------+----------+--------------+-------------+-------------+----------+-------------+\r\n",
      "| versicolor |        0 |          [2] |           2 |       1.000 |    0.500 |       0.667 |\r\n",
      "+------------+----------+--------------+-------------+-------------+----------+-------------+\r\n",
      "|  virginica |        0 |            0 |         [4] |       0.667 |    1.000 |       0.800 |\r\n",
      "+------------+----------+--------------+-------------+-------------+----------+-------------+\r\n",
      "(row = reference; column = predicted)\r\n",
      "Accuracy = 0.8181818181818182\r\n",
      "Objective Function Score (Test) = 0.8181818181818182\r\n",
      "\r\n",
      "Fold: 5\r\n",
      "Model Parameters: {\"C\": 1.0, \"class_weight\": null, \"dual\": false, \"fit_intercept\": true, \"intercept_scaling\": 1, \"max_iter\": 1000, \"multi_class\": \"auto\", \"n_jobs\": null, \"penalty\": \"l2\", \"random_state\": 123456789, \"solver\": \"liblinear\", \"tol\": 0.0001, \"verbose\": 0, \"warm_start\": false}\r\n",
      "Grid Objective Score (Train) = 0.9561781609195402\r\n",
      "+------------+----------+--------------+-------------+-------------+----------+-------------+\r\n",
      "|            |   setosa |   versicolor |   virginica |   Precision |   Recall |   F-measure |\r\n",
      "+============+==========+==============+=============+=============+==========+=============+\r\n",
      "|     setosa |      [3] |            0 |           0 |       1.000 |    1.000 |       1.000 |\r\n",
      "+------------+----------+--------------+-------------+-------------+----------+-------------+\r\n",
      "| versicolor |        0 |          [3] |           1 |       0.750 |    0.750 |       0.750 |\r\n",
      "+------------+----------+--------------+-------------+-------------+----------+-------------+\r\n",
      "|  virginica |        0 |            1 |         [2] |       0.667 |    0.667 |       0.667 |\r\n",
      "+------------+----------+--------------+-------------+-------------+----------+-------------+\r\n",
      "(row = reference; column = predicted)\r\n",
      "Accuracy = 0.8\r\n",
      "Objective Function Score (Test) = 0.8000000000000002\r\n",
      "\r\n",
      "Fold: 6\r\n",
      "Model Parameters: {\"C\": 100.0, \"class_weight\": null, \"dual\": false, \"fit_intercept\": true, \"intercept_scaling\": 1, \"max_iter\": 1000, \"multi_class\": \"auto\", \"n_jobs\": null, \"penalty\": \"l2\", \"random_state\": 123456789, \"solver\": \"liblinear\", \"tol\": 0.0001, \"verbose\": 0, \"warm_start\": false}\r\n",
      "Grid Objective Score (Train) = 0.9569444444444445\r\n",
      "+------------+----------+--------------+-------------+-------------+----------+-------------+\r\n",
      "|            |   setosa |   versicolor |   virginica |   Precision |   Recall |   F-measure |\r\n",
      "+============+==========+==============+=============+=============+==========+=============+\r\n",
      "|     setosa |      [3] |            0 |           0 |       1.000 |    1.000 |       1.000 |\r\n",
      "+------------+----------+--------------+-------------+-------------+----------+-------------+\r\n",
      "| versicolor |        0 |          [3] |           0 |       1.000 |    1.000 |       1.000 |\r\n",
      "+------------+----------+--------------+-------------+-------------+----------+-------------+\r\n",
      "|  virginica |        0 |            0 |         [3] |       1.000 |    1.000 |       1.000 |\r\n",
      "+------------+----------+--------------+-------------+-------------+----------+-------------+\r\n",
      "(row = reference; column = predicted)\r\n",
      "Accuracy = 1.0\r\n",
      "Objective Function Score (Test) = 1.0\r\n",
      "\r\n",
      "Fold: 7\r\n",
      "Model Parameters: {\"C\": 100.0, \"class_weight\": null, \"dual\": false, \"fit_intercept\": true, \"intercept_scaling\": 1, \"max_iter\": 1000, \"multi_class\": \"auto\", \"n_jobs\": null, \"penalty\": \"l2\", \"random_state\": 123456789, \"solver\": \"liblinear\", \"tol\": 0.0001, \"verbose\": 0, \"warm_start\": false}\r\n",
      "Grid Objective Score (Train) = 0.9558668582375479\r\n",
      "+------------+----------+--------------+-------------+-------------+----------+-------------+\r\n",
      "|            |   setosa |   versicolor |   virginica |   Precision |   Recall |   F-measure |\r\n",
      "+============+==========+==============+=============+=============+==========+=============+\r\n",
      "|     setosa |      [3] |            0 |           0 |       1.000 |    1.000 |       1.000 |\r\n",
      "+------------+----------+--------------+-------------+-------------+----------+-------------+\r\n",
      "| versicolor |        0 |          [3] |           0 |       1.000 |    1.000 |       1.000 |\r\n",
      "+------------+----------+--------------+-------------+-------------+----------+-------------+\r\n",
      "|  virginica |        0 |            0 |         [3] |       1.000 |    1.000 |       1.000 |\r\n",
      "+------------+----------+--------------+-------------+-------------+----------+-------------+\r\n",
      "(row = reference; column = predicted)\r\n",
      "Accuracy = 1.0\r\n",
      "Objective Function Score (Test) = 1.0\r\n",
      "\r\n",
      "Fold: 8\r\n",
      "Model Parameters: {\"C\": 10.0, \"class_weight\": null, \"dual\": false, \"fit_intercept\": true, \"intercept_scaling\": 1, \"max_iter\": 1000, \"multi_class\": \"auto\", \"n_jobs\": null, \"penalty\": \"l2\", \"random_state\": 123456789, \"solver\": \"liblinear\", \"tol\": 0.0001, \"verbose\": 0, \"warm_start\": false}\r\n",
      "Grid Objective Score (Train) = 0.9565613026819925\r\n",
      "+------------+----------+--------------+-------------+-------------+----------+-------------+\r\n",
      "|            |   setosa |   versicolor |   virginica |   Precision |   Recall |   F-measure |\r\n",
      "+============+==========+==============+=============+=============+==========+=============+\r\n",
      "|     setosa |      [3] |            0 |           0 |       1.000 |    1.000 |       1.000 |\r\n",
      "+------------+----------+--------------+-------------+-------------+----------+-------------+\r\n",
      "| versicolor |        0 |          [2] |           1 |       1.000 |    0.667 |       0.800 |\r\n",
      "+------------+----------+--------------+-------------+-------------+----------+-------------+\r\n",
      "|  virginica |        0 |            0 |         [3] |       0.750 |    1.000 |       0.857 |\r\n",
      "+------------+----------+--------------+-------------+-------------+----------+-------------+\r\n",
      "(row = reference; column = predicted)\r\n",
      "Accuracy = 0.8888888888888888\r\n",
      "Objective Function Score (Test) = 0.8888888888888888\r\n",
      "\r\n",
      "Fold: 9\r\n",
      "Model Parameters: {\"C\": 10.0, \"class_weight\": null, \"dual\": false, \"fit_intercept\": true, \"intercept_scaling\": 1, \"max_iter\": 1000, \"multi_class\": \"auto\", \"n_jobs\": null, \"penalty\": \"l2\", \"random_state\": 123456789, \"solver\": \"liblinear\", \"tol\": 0.0001, \"verbose\": 0, \"warm_start\": false}\r\n",
      "Grid Objective Score (Train) = 0.9565613026819925\r\n",
      "+------------+----------+--------------+-------------+-------------+----------+-------------+\r\n",
      "|            |   setosa |   versicolor |   virginica |   Precision |   Recall |   F-measure |\r\n",
      "+============+==========+==============+=============+=============+==========+=============+\r\n",
      "|     setosa |      [3] |            0 |           0 |       1.000 |    1.000 |       1.000 |\r\n",
      "+------------+----------+--------------+-------------+-------------+----------+-------------+\r\n",
      "| versicolor |        0 |          [3] |           0 |       1.000 |    1.000 |       1.000 |\r\n",
      "+------------+----------+--------------+-------------+-------------+----------+-------------+\r\n",
      "|  virginica |        0 |            0 |         [3] |       1.000 |    1.000 |       1.000 |\r\n",
      "+------------+----------+--------------+-------------+-------------+----------+-------------+\r\n",
      "(row = reference; column = predicted)\r\n",
      "Accuracy = 1.0\r\n",
      "Objective Function Score (Test) = 1.0\r\n",
      "\r\n",
      "Fold: 10\r\n",
      "Model Parameters: {\"C\": 1.0, \"class_weight\": null, \"dual\": false, \"fit_intercept\": true, \"intercept_scaling\": 1, \"max_iter\": 1000, \"multi_class\": \"auto\", \"n_jobs\": null, \"penalty\": \"l2\", \"random_state\": 123456789, \"solver\": \"liblinear\", \"tol\": 0.0001, \"verbose\": 0, \"warm_start\": false}\r\n",
      "Grid Objective Score (Train) = 0.9439894636015326\r\n",
      "+------------+----------+--------------+-------------+-------------+----------+-------------+\r\n",
      "|            |   setosa |   versicolor |   virginica |   Precision |   Recall |   F-measure |\r\n",
      "+============+==========+==============+=============+=============+==========+=============+\r\n",
      "|     setosa |      [3] |            0 |           0 |       1.000 |    1.000 |       1.000 |\r\n",
      "+------------+----------+--------------+-------------+-------------+----------+-------------+\r\n",
      "| versicolor |        0 |          [3] |           0 |       1.000 |    1.000 |       1.000 |\r\n",
      "+------------+----------+--------------+-------------+-------------+----------+-------------+\r\n",
      "|  virginica |        0 |            0 |         [3] |       1.000 |    1.000 |       1.000 |\r\n",
      "+------------+----------+--------------+-------------+-------------+----------+-------------+\r\n",
      "(row = reference; column = predicted)\r\n",
      "Accuracy = 1.0\r\n",
      "Objective Function Score (Test) = 1.0\r\n",
      "\r\n",
      "Fold: average\r\n",
      "Model Parameters: \r\n",
      "Grid Objective Score (Train) = \r\n",
      "+------------+-------------+----------+-------------+\r\n",
      "| Label      |   Precision |   Recall |   F-measure |\r\n",
      "|------------+-------------+----------+-------------|\r\n",
      "| setosa     |       1.000 |    1.000 |       1.000 |\r\n",
      "| versicolor |       0.975 |    0.892 |       0.922 |\r\n",
      "| virginica  |       0.908 |    0.967 |       0.932 |\r\n",
      "+------------+-------------+----------+-------------+\r\n",
      "Accuracy = 0.9507070707070706\r\n",
      "Objective Function Score (Test) = 0.9507070707070706\r\n",
      "\r\n"
     ]
    }
   ],
   "source": [
    "!cat iris/output/Iris_CV_example_iris_LogisticRegression.results"
   ]
  },
  {
   "cell_type": "code",
   "execution_count": 11,
   "metadata": {},
   "outputs": [
    {
     "name": "stdout",
     "output_type": "stream",
     "text": [
      "id\tprediction\r\n",
      "EXAMPLE_125\tvirginica\r\n",
      "EXAMPLE_130\tvirginica\r\n",
      "EXAMPLE_2\tsetosa\r\n",
      "EXAMPLE_123\tvirginica\r\n"
     ]
    }
   ],
   "source": [
    "!head -5 iris/output/Iris_CV_example_iris_LogisticRegression_predictions.tsv"
   ]
  },
  {
   "cell_type": "code",
   "execution_count": 12,
   "metadata": {},
   "outputs": [
    {
     "name": "stdout",
     "output_type": "stream",
     "text": [
      "2019-10-07 17:14:49,333 - INFO - Task: cross_validate\r\n",
      "2019-10-07 17:14:49,333 - INFO - Cross-validating (10 folds) on train, feature set ['example_iris_features'] ...\r\n",
      "2019-10-07 17:14:49,333 - DEBUG - Path: /home/jovyan/examples/iris/train/example_iris_features.jsonlines\r\n",
      "2019-10-07 17:14:49,338 - INFO - Cross-validating\r\n",
      "2019-10-07 17:14:49,339 - WARNING - Training data will be shuffled to randomize grid search folds. Shuffling may yield different results compared to scikit-learn.\r\n"
     ]
    }
   ],
   "source": [
    "!cat iris/output/Iris_CV_example_iris_LogisticRegression.log"
   ]
  },
  {
   "cell_type": "code",
   "execution_count": 13,
   "metadata": {},
   "outputs": [
    {
     "name": "stdout",
     "output_type": "stream",
     "text": [
      "Index(['accuracy', 'additional_scores', 'cv_folds', 'end_timestamp',\n",
      "       'experiment_name', 'feature_scaling', 'featureset', 'featureset_name',\n",
      "       'fold', 'folds_file', 'grid_objective', 'grid_score', 'grid_search',\n",
      "       'grid_search_cv_results', 'grid_search_folds', 'learner_name',\n",
      "       'min_feature_count', 'model_params', 'pearson', 'save_cv_folds',\n",
      "       'save_cv_models', 'scikit_learn_version', 'score', 'shuffle',\n",
      "       'start_timestamp', 'stratified_folds', 'task', 'test_set_name',\n",
      "       'test_set_size', 'total_time', 'train_set_name', 'train_set_size',\n",
      "       'use_folds_file_for_grid_search', 'using_folds_file', 'version'],\n",
      "      dtype='object')\n"
     ]
    }
   ],
   "source": [
    "import pandas as pd\n",
    "\n",
    "summary_df = pd.read_csv('iris/output/Iris_CV_summary.tsv', sep='\\t')\n",
    "print(summary_df.columns)"
   ]
  },
  {
   "cell_type": "code",
   "execution_count": 14,
   "metadata": {},
   "outputs": [
    {
     "name": "stdout",
     "output_type": "stream",
     "text": [
      "              learner_name  accuracy     score     fold featureset_name\n",
      "0   RandomForestClassifier  0.916667  0.916667        1    example_iris\n",
      "1   RandomForestClassifier  0.909091  0.909091        2    example_iris\n",
      "2   RandomForestClassifier  1.000000  1.000000        3    example_iris\n",
      "3   RandomForestClassifier  0.818182  0.818182        4    example_iris\n",
      "4   RandomForestClassifier  0.800000  0.800000        5    example_iris\n",
      "5   RandomForestClassifier  1.000000  1.000000        6    example_iris\n",
      "6   RandomForestClassifier  0.888889  0.888889        7    example_iris\n",
      "7   RandomForestClassifier  1.000000  1.000000        8    example_iris\n",
      "8   RandomForestClassifier  0.777778  0.777778        9    example_iris\n",
      "9   RandomForestClassifier  1.000000  1.000000       10    example_iris\n",
      "10  RandomForestClassifier  0.911061  0.911061  average    example_iris\n",
      "11                     SVC  1.000000  1.000000        1    example_iris\n",
      "12                     SVC  0.909091  0.909091        2    example_iris\n",
      "13                     SVC  1.000000  1.000000        3    example_iris\n",
      "14                     SVC  0.818182  0.818182        4    example_iris\n",
      "15                     SVC  0.800000  0.800000        5    example_iris\n",
      "16                     SVC  1.000000  1.000000        6    example_iris\n",
      "17                     SVC  1.000000  1.000000        7    example_iris\n",
      "18                     SVC  1.000000  1.000000        8    example_iris\n",
      "19                     SVC  0.888889  0.888889        9    example_iris\n",
      "20                     SVC  1.000000  1.000000       10    example_iris\n",
      "21                     SVC  0.941616  0.941616  average    example_iris\n",
      "22      LogisticRegression  1.000000  1.000000        1    example_iris\n",
      "23      LogisticRegression  1.000000  1.000000        2    example_iris\n",
      "24      LogisticRegression  1.000000  1.000000        3    example_iris\n",
      "25      LogisticRegression  0.818182  0.818182        4    example_iris\n",
      "26      LogisticRegression  0.800000  0.800000        5    example_iris\n",
      "27      LogisticRegression  1.000000  1.000000        6    example_iris\n",
      "28      LogisticRegression  1.000000  1.000000        7    example_iris\n",
      "29      LogisticRegression  0.888889  0.888889        8    example_iris\n",
      "30      LogisticRegression  1.000000  1.000000        9    example_iris\n",
      "31      LogisticRegression  1.000000  1.000000       10    example_iris\n",
      "32      LogisticRegression  0.950707  0.950707  average    example_iris\n",
      "33           MultinomialNB  0.916667  0.916667        1    example_iris\n",
      "34           MultinomialNB  0.909091  0.909091        2    example_iris\n",
      "35           MultinomialNB  1.000000  1.000000        3    example_iris\n",
      "36           MultinomialNB  0.818182  0.818182        4    example_iris\n",
      "37           MultinomialNB  0.900000  0.900000        5    example_iris\n",
      "38           MultinomialNB  1.000000  1.000000        6    example_iris\n",
      "39           MultinomialNB  1.000000  1.000000        7    example_iris\n",
      "40           MultinomialNB  1.000000  1.000000        8    example_iris\n",
      "41           MultinomialNB  1.000000  1.000000        9    example_iris\n",
      "42           MultinomialNB  1.000000  1.000000       10    example_iris\n",
      "43           MultinomialNB  0.954394  0.954394  average    example_iris\n"
     ]
    }
   ],
   "source": [
    "print(summary_df[['learner_name', 'accuracy', 'score', 'fold', 'featureset_name']])"
   ]
  },
  {
   "cell_type": "markdown",
   "metadata": {},
   "source": [
    "Cleaning up the created folders"
   ]
  },
  {
   "cell_type": "code",
   "execution_count": 15,
   "metadata": {},
   "outputs": [],
   "source": [
    "!rm -rf iris/output/"
   ]
  },
  {
   "cell_type": "markdown",
   "metadata": {},
   "source": [
    "### Saving Models\n",
    "\n",
    "Modifying the cross_validation configuration to *train* task and saving models."
   ]
  },
  {
   "cell_type": "code",
   "execution_count": 16,
   "metadata": {},
   "outputs": [
    {
     "name": "stdout",
     "output_type": "stream",
     "text": [
      "['General', 'Input', 'Tuning', 'Output']\n"
     ]
    }
   ],
   "source": [
    "import configparser\n",
    "\n",
    "template_config = configparser.ConfigParser()\n",
    "template_config.read('iris/cross_val.cfg')\n",
    "print(template_config.sections())\n",
    "template_config.set('General', 'experiment_name', 'Iris_Train')\n",
    "template_config.set('General', 'task', 'train')\n",
    "template_config.set('Output', 'models', 'output')\n",
    "template_config.remove_option('Output', 'predictions')\n",
    "\n",
    "with open('iris/train.cfg', 'w') as configfile:\n",
    "    template_config.write(configfile)"
   ]
  },
  {
   "cell_type": "code",
   "execution_count": 17,
   "metadata": {},
   "outputs": [
    {
     "name": "stdout",
     "output_type": "stream",
     "text": [
      "2019-10-07 17:14:59,755 - Iris_Train_example_iris_RandomForestClassifier - INFO - Task: train\n",
      "2019-10-07 17:14:59,755 - Iris_Train_example_iris_RandomForestClassifier - INFO - Training on train, feature set ['example_iris_features'] ...\n",
      "2019-10-07 17:14:59,755 - Iris_Train_example_iris_RandomForestClassifier - DEBUG - Path: /home/jovyan/examples/iris/train/example_iris_features.jsonlines\n",
      "Loading /home/jovyan/examples/iris/train/example_iris_features.jsonlines...           done\n",
      "2019-10-07 17:14:59,762 - Iris_Train_example_iris_RandomForestClassifier - INFO - Featurizing and training new RandomForestClassifier model\n",
      "2019-10-07 17:14:59,762 - Iris_Train_example_iris_RandomForestClassifier - WARNING - Training data will be shuffled to randomize grid search folds.  Shuffling may yield different results compared to scikit-learn.\n",
      "2019-10-07 17:15:17,150 - Iris_Train_example_iris_RandomForestClassifier - INFO - Best f1_score_micro grid search score: 0.93\n",
      "2019-10-07 17:15:17,150 - Iris_Train_example_iris_RandomForestClassifier - INFO - Hyperparameters: bootstrap: True, class_weight: None, criterion: gini, max_depth: 5, max_features: auto, max_leaf_nodes: None, min_impurity_decrease: 0.0, min_impurity_split: None, min_samples_leaf: 1, min_samples_split: 2, min_weight_fraction_leaf: 0.0, n_estimators: 500, n_jobs: None, oob_score: False, random_state: 123456789, verbose: 0, warm_start: False\n",
      "2019-10-07 17:15:17,152 - Iris_Train_example_iris_SVC - INFO - Task: train\n",
      "2019-10-07 17:15:17,152 - Iris_Train_example_iris_SVC - INFO - Training on train, feature set ['example_iris_features'] ...\n",
      "2019-10-07 17:15:17,153 - Iris_Train_example_iris_SVC - DEBUG - Path: /home/jovyan/examples/iris/train/example_iris_features.jsonlines\n",
      "Loading /home/jovyan/examples/iris/train/example_iris_features.jsonlines...           done\n",
      "2019-10-07 17:15:17,157 - Iris_Train_example_iris_SVC - INFO - Featurizing and training new SVC model\n",
      "2019-10-07 17:15:17,158 - Iris_Train_example_iris_SVC - WARNING - Training data will be shuffled to randomize grid search folds.  Shuffling may yield different results compared to scikit-learn.\n",
      "2019-10-07 17:15:17,985 - Iris_Train_example_iris_SVC - INFO - Best f1_score_micro grid search score: 0.96\n",
      "2019-10-07 17:15:17,985 - Iris_Train_example_iris_SVC - INFO - Hyperparameters: C: 10.0, cache_size: 1000, class_weight: None, coef0: 0.0, decision_function_shape: ovr, degree: 3, gamma: auto, kernel: rbf, max_iter: -1, probability: False, random_state: 123456789, shrinking: True, tol: 0.001, verbose: False\n",
      "2019-10-07 17:15:18,033 - Iris_Train_example_iris_LogisticRegression - INFO - Task: train\n",
      "2019-10-07 17:15:18,034 - Iris_Train_example_iris_LogisticRegression - INFO - Training on train, feature set ['example_iris_features'] ...\n",
      "2019-10-07 17:15:18,034 - Iris_Train_example_iris_LogisticRegression - DEBUG - Path: /home/jovyan/examples/iris/train/example_iris_features.jsonlines\n",
      "Loading /home/jovyan/examples/iris/train/example_iris_features.jsonlines...           done\n",
      "2019-10-07 17:15:18,039 - Iris_Train_example_iris_LogisticRegression - INFO - Featurizing and training new LogisticRegression model\n",
      "2019-10-07 17:15:18,039 - Iris_Train_example_iris_LogisticRegression - WARNING - Training data will be shuffled to randomize grid search folds.  Shuffling may yield different results compared to scikit-learn.\n",
      "2019-10-07 17:15:18,133 - Iris_Train_example_iris_LogisticRegression - INFO - Best f1_score_micro grid search score: 0.949\n",
      "2019-10-07 17:15:18,133 - Iris_Train_example_iris_LogisticRegression - INFO - Hyperparameters: C: 100.0, class_weight: None, dual: False, fit_intercept: True, intercept_scaling: 1, max_iter: 1000, multi_class: auto, n_jobs: None, penalty: l2, random_state: 123456789, solver: liblinear, tol: 0.0001, verbose: 0, warm_start: False\n",
      "2019-10-07 17:15:18,135 - Iris_Train_example_iris_MultinomialNB - INFO - Task: train\n",
      "2019-10-07 17:15:18,135 - Iris_Train_example_iris_MultinomialNB - INFO - Training on train, feature set ['example_iris_features'] ...\n",
      "2019-10-07 17:15:18,135 - Iris_Train_example_iris_MultinomialNB - DEBUG - Path: /home/jovyan/examples/iris/train/example_iris_features.jsonlines\n",
      "Loading /home/jovyan/examples/iris/train/example_iris_features.jsonlines...           done\n",
      "2019-10-07 17:15:18,141 - Iris_Train_example_iris_MultinomialNB - INFO - Featurizing and training new MultinomialNB model\n",
      "2019-10-07 17:15:18,141 - Iris_Train_example_iris_MultinomialNB - WARNING - Training data will be shuffled to randomize grid search folds.  Shuffling may yield different results compared to scikit-learn.\n",
      "2019-10-07 17:15:18,233 - Iris_Train_example_iris_MultinomialNB - INFO - Best f1_score_micro grid search score: 0.931\n",
      "2019-10-07 17:15:18,233 - Iris_Train_example_iris_MultinomialNB - INFO - Hyperparameters: alpha: 0.1, class_prior: None, fit_prior: True\n"
     ]
    }
   ],
   "source": [
    "!run_experiment --local --verbose iris/train.cfg"
   ]
  },
  {
   "cell_type": "code",
   "execution_count": 18,
   "metadata": {},
   "outputs": [
    {
     "name": "stdout",
     "output_type": "stream",
     "text": [
      "iris/\n",
      "    cross_val.cfg\n",
      "    evaluate.cfg\n",
      "    train.cfg\n",
      "    train/\n",
      "        example_iris_features.csv\n",
      "        example_iris_features.jsonlines\n",
      "    output/\n",
      "        Iris_Train.log\n",
      "        Iris_Train_example_iris_LogisticRegression.log\n",
      "        Iris_Train_example_iris_LogisticRegression.model\n",
      "        Iris_Train_example_iris_LogisticRegression.results.json\n",
      "        Iris_Train_example_iris_MultinomialNB.log\n",
      "        Iris_Train_example_iris_MultinomialNB.model\n",
      "        Iris_Train_example_iris_MultinomialNB.results.json\n",
      "        Iris_Train_example_iris_RandomForestClassifier.log\n",
      "        Iris_Train_example_iris_RandomForestClassifier.model\n",
      "        Iris_Train_example_iris_RandomForestClassifier.results.json\n",
      "        Iris_Train_example_iris_SVC.log\n",
      "        Iris_Train_example_iris_SVC.model\n",
      "        Iris_Train_example_iris_SVC.results.json\n",
      "    test/\n",
      "        example_iris_features.jsonlines\n"
     ]
    }
   ],
   "source": [
    "list_files('iris')"
   ]
  },
  {
   "cell_type": "markdown",
   "metadata": {},
   "source": [
    "SKLL provides several [utilities scripts](https://skll.readthedocs.io/en/latest/utilities.html) to be run from the command line. We have already seen the *skll_convert* command. Let us check a few others."
   ]
  },
  {
   "cell_type": "code",
   "execution_count": 19,
   "metadata": {},
   "outputs": [
    {
     "name": "stdout",
     "output_type": "stream",
     "text": [
      "== intercept values ==\r\n",
      " 0.523847976639\tsetosa\r\n",
      " 8.596424777145\tversicolor\r\n",
      "-10.780098918423\tvirginica\r\n",
      "\r\n",
      "Number of nonzero features: 12\r\n",
      " 10.256015994211\tvirginica\tf3\r\n",
      "-5.686157558959\tvirginica\tf1\r\n",
      " 5.112029479105\tvirginica\tf2\r\n",
      "-4.748723308900\tsetosa\tf2\r\n",
      " 3.033345904488\tsetosa\tf1\r\n",
      "-2.998959524533\tversicolor\tf1\r\n",
      "-2.676118603072\tversicolor\tf3\r\n",
      "-2.483651635462\tvirginica\tf0\r\n",
      "-2.207259783848\tsetosa\tf3\r\n",
      " 1.325443092977\tversicolor\tf2\r\n",
      " 0.876178989967\tsetosa\tf0\r\n",
      "-0.391612756145\tversicolor\tf0\r\n"
     ]
    }
   ],
   "source": [
    "!print_model_weights iris/output/Iris_Train_example_iris_LogisticRegression.model"
   ]
  },
  {
   "cell_type": "code",
   "execution_count": 20,
   "metadata": {},
   "outputs": [
    {
     "name": "stdout",
     "output_type": "stream",
     "text": [
      "Loading iris/test/example_iris_features.jsonlines...           done\r\n",
      "id\tprediction\r\n",
      "EXAMPLE_73\tversicolor\r\n",
      "EXAMPLE_18\tsetosa\r\n",
      "EXAMPLE_118\tvirginica\r\n",
      "EXAMPLE_78\tversicolor\r\n",
      "EXAMPLE_76\tversicolor\r\n",
      "EXAMPLE_31\tsetosa\r\n",
      "EXAMPLE_64\tversicolor\r\n",
      "EXAMPLE_141\tvirginica\r\n",
      "EXAMPLE_68\tversicolor\r\n",
      "EXAMPLE_82\tversicolor\r\n",
      "EXAMPLE_110\tvirginica\r\n",
      "EXAMPLE_12\tsetosa\r\n",
      "EXAMPLE_36\tsetosa\r\n",
      "EXAMPLE_9\tsetosa\r\n",
      "EXAMPLE_19\tsetosa\r\n",
      "EXAMPLE_56\tversicolor\r\n",
      "EXAMPLE_104\tvirginica\r\n",
      "EXAMPLE_69\tversicolor\r\n",
      "EXAMPLE_55\tversicolor\r\n",
      "EXAMPLE_132\tvirginica\r\n",
      "EXAMPLE_29\tsetosa\r\n",
      "EXAMPLE_127\tvirginica\r\n",
      "EXAMPLE_26\tsetosa\r\n",
      "EXAMPLE_128\tvirginica\r\n",
      "EXAMPLE_131\tvirginica\r\n",
      "EXAMPLE_145\tvirginica\r\n",
      "EXAMPLE_108\tvirginica\r\n",
      "EXAMPLE_143\tvirginica\r\n",
      "EXAMPLE_45\tsetosa\r\n",
      "EXAMPLE_30\tsetosa\r\n",
      "EXAMPLE_22\tsetosa\r\n",
      "EXAMPLE_15\tsetosa\r\n",
      "EXAMPLE_65\tversicolor\r\n",
      "EXAMPLE_11\tsetosa\r\n",
      "EXAMPLE_42\tsetosa\r\n",
      "EXAMPLE_146\tvirginica\r\n",
      "EXAMPLE_51\tversicolor\r\n",
      "EXAMPLE_27\tsetosa\r\n",
      "EXAMPLE_4\tsetosa\r\n",
      "EXAMPLE_32\tsetosa\r\n",
      "EXAMPLE_142\tvirginica\r\n",
      "EXAMPLE_85\tversicolor\r\n",
      "EXAMPLE_86\tversicolor\r\n",
      "EXAMPLE_16\tsetosa\r\n",
      "EXAMPLE_10\tsetosa\r\n",
      "EXAMPLE_81\tversicolor\r\n",
      "EXAMPLE_133\tversicolor\r\n",
      "EXAMPLE_137\tvirginica\r\n",
      "EXAMPLE_75\tversicolor\r\n",
      "EXAMPLE_109\tvirginica\r\n"
     ]
    }
   ],
   "source": [
    "!generate_predictions iris/output/Iris_Train_example_iris_LogisticRegression.model iris/test/example_iris_features.jsonlines"
   ]
  },
  {
   "cell_type": "markdown",
   "metadata": {},
   "source": [
    "Cleaning up."
   ]
  },
  {
   "cell_type": "code",
   "execution_count": 21,
   "metadata": {},
   "outputs": [],
   "source": [
    "!rm -rf iris/output iris/train.cfg"
   ]
  },
  {
   "cell_type": "code",
   "execution_count": 22,
   "metadata": {},
   "outputs": [
    {
     "name": "stdout",
     "output_type": "stream",
     "text": [
      "iris/\n",
      "    cross_val.cfg\n",
      "    evaluate.cfg\n",
      "    train/\n",
      "        example_iris_features.csv\n",
      "        example_iris_features.jsonlines\n",
      "    test/\n",
      "        example_iris_features.jsonlines\n"
     ]
    }
   ],
   "source": [
    "list_files('iris')"
   ]
  },
  {
   "cell_type": "markdown",
   "metadata": {},
   "source": [
    "# Python API\n",
    "\n",
    "While the command line tools are intended to be the primary way of using SKLL, the additional Python API can also be used to avoid writing large amounts of standard boiler-plate code. \n",
    "\n",
    "The [learner](https://skll.readthedocs.io/en/latest/api/learner.html) and [data](https://skll.readthedocs.io/en/latest/api/data.html) modules can be used to broadly replicate the functionalities of command line tools."
   ]
  },
  {
   "cell_type": "code",
   "execution_count": 23,
   "metadata": {},
   "outputs": [],
   "source": [
    "from skll import Reader\n",
    "\n",
    "train_example_reader = Reader.for_path('iris/train/example_iris_features.jsonlines')\n",
    "test_example_reader = Reader.for_path('iris/test/example_iris_features.jsonlines')\n",
    "\n",
    "train_examples = train_example_reader.read()\n",
    "test_examples = test_example_reader.read()"
   ]
  },
  {
   "cell_type": "code",
   "execution_count": 24,
   "metadata": {},
   "outputs": [
    {
     "name": "stdout",
     "output_type": "stream",
     "text": [
      "{'name': 'iris/test/example_iris_features.jsonlines', 'ids': array(['EXAMPLE_73', 'EXAMPLE_18', 'EXAMPLE_118', 'EXAMPLE_78',\n",
      "       'EXAMPLE_76', 'EXAMPLE_31', 'EXAMPLE_64', 'EXAMPLE_141',\n",
      "       'EXAMPLE_68', 'EXAMPLE_82', 'EXAMPLE_110', 'EXAMPLE_12',\n",
      "       'EXAMPLE_36', 'EXAMPLE_9', 'EXAMPLE_19', 'EXAMPLE_56',\n",
      "       'EXAMPLE_104', 'EXAMPLE_69', 'EXAMPLE_55', 'EXAMPLE_132',\n",
      "       'EXAMPLE_29', 'EXAMPLE_127', 'EXAMPLE_26', 'EXAMPLE_128',\n",
      "       'EXAMPLE_131', 'EXAMPLE_145', 'EXAMPLE_108', 'EXAMPLE_143',\n",
      "       'EXAMPLE_45', 'EXAMPLE_30', 'EXAMPLE_22', 'EXAMPLE_15',\n",
      "       'EXAMPLE_65', 'EXAMPLE_11', 'EXAMPLE_42', 'EXAMPLE_146',\n",
      "       'EXAMPLE_51', 'EXAMPLE_27', 'EXAMPLE_4', 'EXAMPLE_32',\n",
      "       'EXAMPLE_142', 'EXAMPLE_85', 'EXAMPLE_86', 'EXAMPLE_16',\n",
      "       'EXAMPLE_10', 'EXAMPLE_81', 'EXAMPLE_133', 'EXAMPLE_137',\n",
      "       'EXAMPLE_75', 'EXAMPLE_109'], dtype='<U11'), 'labels': array(['versicolor', 'setosa', 'virginica', 'versicolor', 'versicolor',\n",
      "       'setosa', 'versicolor', 'virginica', 'versicolor', 'versicolor',\n",
      "       'virginica', 'setosa', 'setosa', 'setosa', 'setosa', 'versicolor',\n",
      "       'virginica', 'versicolor', 'versicolor', 'virginica', 'setosa',\n",
      "       'virginica', 'setosa', 'virginica', 'virginica', 'virginica',\n",
      "       'virginica', 'virginica', 'setosa', 'setosa', 'setosa', 'setosa',\n",
      "       'versicolor', 'setosa', 'setosa', 'virginica', 'versicolor',\n",
      "       'setosa', 'setosa', 'setosa', 'virginica', 'versicolor',\n",
      "       'versicolor', 'setosa', 'setosa', 'versicolor', 'virginica',\n",
      "       'virginica', 'versicolor', 'virginica'], dtype='<U10'), 'features': <50x4 sparse matrix of type '<class 'numpy.float64'>'\n",
      "\twith 200 stored elements in Compressed Sparse Row format>, 'vectorizer': DictVectorizer(dtype=<class 'numpy.float64'>, separator='=', sort=True,\n",
      "        sparse=True)}\n"
     ]
    }
   ],
   "source": [
    "print(test_examples)"
   ]
  },
  {
   "cell_type": "code",
   "execution_count": 25,
   "metadata": {},
   "outputs": [
    {
     "name": "stderr",
     "output_type": "stream",
     "text": [
      "Training data will be shuffled to randomize grid search folds.  Shuffling may yield different results compared to scikit-learn.\n"
     ]
    },
    {
     "name": "stdout",
     "output_type": "stream",
     "text": [
      "Best objective : 0.93997113997114\n"
     ]
    },
    {
     "name": "stderr",
     "output_type": "stream",
     "text": [
      "/srv/conda/envs/notebook/lib/python3.7/site-packages/sklearn/svm/base.py:922: ConvergenceWarning: Liblinear failed to converge, increase the number of iterations.\n",
      "  \"the number of iterations.\", ConvergenceWarning)\n"
     ]
    }
   ],
   "source": [
    "from skll import Learner\n",
    "\n",
    "learner = Learner('LinearSVC')\n",
    "best_obj, grid_search_results = learner.train(train_examples, grid_objective='f1_score_micro')\n",
    "print('Best objective : {}'.format(best_obj))"
   ]
  },
  {
   "cell_type": "code",
   "execution_count": 26,
   "metadata": {},
   "outputs": [
    {
     "name": "stdout",
     "output_type": "stream",
     "text": [
      "   mean_fit_time  std_fit_time  mean_score_time  std_score_time param_C  \\\n",
      "0       0.002645      0.000359         0.001249        0.000156    0.01   \n",
      "1       0.003481      0.000417         0.000992        0.000150     0.1   \n",
      "2       0.008310      0.001615         0.001071        0.000156       1   \n",
      "3       0.027503      0.029514         0.001066        0.000172      10   \n",
      "4       0.029335      0.031981         0.001016        0.000102     100   \n",
      "\n",
      "         params  split0_test_score  split1_test_score  split2_test_score  \\\n",
      "0   {'C': 0.01}           0.685714           0.666667            0.68750   \n",
      "1    {'C': 0.1}           0.971429           0.848485            0.93750   \n",
      "2    {'C': 1.0}           1.000000           0.818182            1.00000   \n",
      "3   {'C': 10.0}           0.971429           0.848485            1.00000   \n",
      "4  {'C': 100.0}           0.828571           0.787879            0.84375   \n",
      "\n",
      "   mean_test_score  std_test_score  rank_test_score  split0_train_score  \\\n",
      "0         0.679960        0.009428                5            0.661538   \n",
      "1         0.919138        0.051844                3            0.938462   \n",
      "2         0.939394        0.085710                2            0.969231   \n",
      "3         0.939971        0.065734                1            0.938462   \n",
      "4         0.820067        0.023589                4            0.846154   \n",
      "\n",
      "   split1_train_score  split2_train_score  mean_train_score  std_train_score  \n",
      "0            0.701493            0.676471          0.679834         0.016484  \n",
      "1            0.985075            0.941176          0.954904         0.021362  \n",
      "2            0.985075            0.970588          0.974965         0.007170  \n",
      "3            0.970149            0.970588          0.959733         0.015042  \n",
      "4            0.910448            0.867647          0.874750         0.026724  \n"
     ]
    },
    {
     "name": "stderr",
     "output_type": "stream",
     "text": [
      "/srv/conda/envs/notebook/lib/python3.7/site-packages/sklearn/utils/deprecation.py:125: FutureWarning: You are accessing a training score ('split0_train_score'), which will not be available by default any more in 0.21. If you need training scores, please set return_train_score=True\n",
      "  warnings.warn(*warn_args, **warn_kwargs)\n",
      "/srv/conda/envs/notebook/lib/python3.7/site-packages/sklearn/utils/deprecation.py:125: FutureWarning: You are accessing a training score ('split1_train_score'), which will not be available by default any more in 0.21. If you need training scores, please set return_train_score=True\n",
      "  warnings.warn(*warn_args, **warn_kwargs)\n",
      "/srv/conda/envs/notebook/lib/python3.7/site-packages/sklearn/utils/deprecation.py:125: FutureWarning: You are accessing a training score ('split2_train_score'), which will not be available by default any more in 0.21. If you need training scores, please set return_train_score=True\n",
      "  warnings.warn(*warn_args, **warn_kwargs)\n",
      "/srv/conda/envs/notebook/lib/python3.7/site-packages/sklearn/utils/deprecation.py:125: FutureWarning: You are accessing a training score ('mean_train_score'), which will not be available by default any more in 0.21. If you need training scores, please set return_train_score=True\n",
      "  warnings.warn(*warn_args, **warn_kwargs)\n",
      "/srv/conda/envs/notebook/lib/python3.7/site-packages/sklearn/utils/deprecation.py:125: FutureWarning: You are accessing a training score ('std_train_score'), which will not be available by default any more in 0.21. If you need training scores, please set return_train_score=True\n",
      "  warnings.warn(*warn_args, **warn_kwargs)\n"
     ]
    }
   ],
   "source": [
    "grid_search_df = pd.DataFrame(grid_search_results)\n",
    "print(grid_search_df)"
   ]
  },
  {
   "cell_type": "code",
   "execution_count": 27,
   "metadata": {},
   "outputs": [
    {
     "name": "stdout",
     "output_type": "stream",
     "text": [
      "Test Accuracy : 0.98\n",
      "Test Objective Score : 0.98\n"
     ]
    }
   ],
   "source": [
    "conf_matrix, accuracy, prf_dict, model_params, obj_score, _ = learner.evaluate(test_examples,\n",
    "                                                                               grid_objective='f1_score_micro')\n",
    "print('Test Accuracy : {}'.format(accuracy))\n",
    "print('Test Objective Score : {}'.format(obj_score))"
   ]
  },
  {
   "cell_type": "code",
   "execution_count": 28,
   "metadata": {},
   "outputs": [
    {
     "name": "stdout",
     "output_type": "stream",
     "text": [
      "           setosa  versicolor  virginica\n",
      "Precision     1.0    0.937500   1.000000\n",
      "Recall        1.0    1.000000   0.937500\n",
      "F-measure     1.0    0.967742   0.967742\n"
     ]
    }
   ],
   "source": [
    "prf_df = pd.DataFrame(prf_dict)\n",
    "print(prf_df)"
   ]
  },
  {
   "cell_type": "code",
   "execution_count": 29,
   "metadata": {},
   "outputs": [
    {
     "name": "stdout",
     "output_type": "stream",
     "text": [
      "{'C': 10.0, 'class_weight': None, 'dual': True, 'fit_intercept': True, 'intercept_scaling': 1, 'loss': 'squared_hinge', 'max_iter': 1000, 'multi_class': 'ovr', 'penalty': 'l2', 'random_state': 123456789, 'tol': 0.0001, 'verbose': 0}\n"
     ]
    }
   ],
   "source": [
    "print(model_params)"
   ]
  },
  {
   "cell_type": "code",
   "execution_count": 30,
   "metadata": {},
   "outputs": [
    {
     "name": "stdout",
     "output_type": "stream",
     "text": [
      "[[19, 0, 0], [0, 15, 0], [0, 1, 15]]\n"
     ]
    }
   ],
   "source": [
    "print(conf_matrix)"
   ]
  }
 ],
 "metadata": {
  "kernelspec": {
   "display_name": "Python 3",
   "language": "python",
   "name": "python3"
  },
  "language_info": {
   "codemirror_mode": {
    "name": "ipython",
    "version": 3
   },
   "file_extension": ".py",
   "mimetype": "text/x-python",
   "name": "python",
   "nbconvert_exporter": "python",
   "pygments_lexer": "ipython3",
   "version": "3.7.3"
  }
 },
 "nbformat": 4,
 "nbformat_minor": 2
}
